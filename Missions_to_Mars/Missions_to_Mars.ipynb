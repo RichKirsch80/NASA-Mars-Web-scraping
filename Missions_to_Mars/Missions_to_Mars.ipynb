{
 "cells": [
  {
   "cell_type": "code",
   "execution_count": 1,
   "id": "d561f285",
   "metadata": {},
   "outputs": [],
   "source": [
    "import pymongo"
   ]
  },
  {
   "cell_type": "code",
   "execution_count": 2,
   "id": "86be9034",
   "metadata": {},
   "outputs": [],
   "source": [
    "conn = 'mongodb://localhost:27017'\n",
    "client = pymongo.MongoClient(conn)"
   ]
  },
  {
   "cell_type": "code",
   "execution_count": 3,
   "id": "98b5fd08",
   "metadata": {},
   "outputs": [],
   "source": [
    "db = client.mars_news\n",
    "news = db.news"
   ]
  },
  {
   "cell_type": "code",
   "execution_count": 10,
   "id": "3ce95448",
   "metadata": {},
   "outputs": [
    {
     "name": "stderr",
     "output_type": "stream",
     "text": [
      "\n",
      "\n",
      "====== WebDriver manager ======\n",
      "Current google-chrome version is 94.0.4606\n",
      "Get LATEST driver version for 94.0.4606\n",
      "Driver [C:\\Users\\richk\\.wdm\\drivers\\chromedriver\\win32\\94.0.4606.61\\chromedriver.exe] found in cache\n"
     ]
    }
   ],
   "source": [
    "from splinter import Browser\n",
    "from bs4 import BeautifulSoup\n",
    "from webdriver_manager.chrome import ChromeDriverManager\n",
    "\n",
    "executable_path = {'executable_path': ChromeDriverManager().install()}\n",
    "browser = Browser('chrome', **executable_path, headless=False)"
   ]
  },
  {
   "cell_type": "code",
   "execution_count": 11,
   "id": "c41f26ec",
   "metadata": {},
   "outputs": [],
   "source": [
    "#NASA Mars News\n",
    "mars_news = list()\n",
    "url = \"https://redplanetscience.com/\"\n",
    "browser.visit(url)"
   ]
  },
  {
   "cell_type": "code",
   "execution_count": 12,
   "id": "5dd417c9",
   "metadata": {},
   "outputs": [],
   "source": [
    "html = browser.html\n",
    "soup = BeautifulSoup(html, \"html.parser\")"
   ]
  },
  {
   "cell_type": "code",
   "execution_count": 16,
   "id": "3cf96bf0",
   "metadata": {},
   "outputs": [],
   "source": [
    "article = soup.find('div', class_='list_text')\n",
    "news_title = article.find('div', class_=\"content_title\").get_text()\n",
    "body = article.find('div', class_=\"article_teaser_body\").get_text()\n"
   ]
  },
  {
   "cell_type": "code",
   "execution_count": 17,
   "id": "9772cbe2",
   "metadata": {},
   "outputs": [
    {
     "data": {
      "text/plain": [
       "('MOXIE Could Help Future Rockets Launch Off Mars',\n",
       " \"NASA's Perseverance rover carries a device to convert Martian air into oxygen that, if produced on a larger scale, could be used not just for breathing, but also for fuel.\")"
      ]
     },
     "execution_count": 17,
     "metadata": {},
     "output_type": "execute_result"
    }
   ],
   "source": [
    "news_title, body"
   ]
  },
  {
   "cell_type": "code",
   "execution_count": 59,
   "id": "8f7cd409",
   "metadata": {},
   "outputs": [],
   "source": [
    "#Featured Image\n",
    "url1 = \"https://spaceimages-mars.com/\"\n",
    "browser.visit(url1)"
   ]
  },
  {
   "cell_type": "code",
   "execution_count": 66,
   "id": "5961c95c",
   "metadata": {},
   "outputs": [],
   "source": [
    "html = browser.html\n",
    "soup = BeautifulSoup(html, \"html.parser\")\n",
    "header = soup.find('div', class_='header')\n",
    "image = header.find('img', class_=\"headerimage fade-in\")\n",
    "featured_image_url = url1 + image['src']"
   ]
  },
  {
   "cell_type": "code",
   "execution_count": 67,
   "id": "176dea8f",
   "metadata": {},
   "outputs": [
    {
     "data": {
      "text/plain": [
       "'https://spaceimages-mars.com/image/featured/mars1.jpg'"
      ]
     },
     "execution_count": 67,
     "metadata": {},
     "output_type": "execute_result"
    }
   ],
   "source": [
    "featured_image_url"
   ]
  },
  {
   "cell_type": "code",
   "execution_count": null,
   "id": "3a5e1796",
   "metadata": {},
   "outputs": [],
   "source": [
    "#Mars Facts\n",
    "import pandas as pd\n",
    "url2 = \"https://galaxyfacts-mars.com/\"\n",
    "tables = pd.read_html(url2)\n",
    "tables"
   ]
  },
  {
   "cell_type": "code",
   "execution_count": null,
   "id": "b734ed7c",
   "metadata": {},
   "outputs": [],
   "source": [
    "df = tables[0] \n",
    "df.columns = ['Comparison', 'Mars', 'Earth']\n",
    "df"
   ]
  },
  {
   "cell_type": "code",
   "execution_count": null,
   "id": "3f37e91b",
   "metadata": {},
   "outputs": [],
   "source": [
    "df = df.iloc[1:]\n",
    "df.set_index('Comparison', inplace=True)\n",
    "df.head()"
   ]
  },
  {
   "cell_type": "code",
   "execution_count": null,
   "id": "4847c4df",
   "metadata": {},
   "outputs": [],
   "source": [
    "#Mars Hemispheres\n",
    "url3 = \"https://marshemispheres.com/\"\n",
    "browser.visit(url3)\n",
    "html = browser.html\n",
    "soup = BeautifulSoup(html, \"html.parser\")\n",
    "\n",
    "boxes = soup.find_all('div', class_=\"result-list\")\n",
    "res_titles = list()\n",
    "img_urls = list()\n",
    "for box in boxes:\n",
    "    titles = box.find_all('h3')\n",
    "    links = box.find_all('a', class_=\"itemLink product-item\")\n",
    "        \n",
    "    for title,link in zip(titles,links):\n",
    "        res_titles.append(title.text)\n",
    "        img_click = link['href']\n",
    "        browser.click_link_by_partial_text(title.text)\n",
    "\n",
    "        html = browser.html\n",
    "        soup = BeautifulSoup(html, \"html.parser\")\n",
    "        sample = soup.find(\"a\", text=\"Sample\")\n",
    "        sample_url = sample['href']\n",
    "        img_url = url3 + sample_url\n",
    "        img_urls.append(img_url)\n",
    "        browser.back()"
   ]
  },
  {
   "cell_type": "code",
   "execution_count": null,
   "id": "94b4693f",
   "metadata": {},
   "outputs": [],
   "source": [
    "res_titles"
   ]
  },
  {
   "cell_type": "code",
   "execution_count": null,
   "id": "f86ce80f",
   "metadata": {},
   "outputs": [],
   "source": [
    "img_urls"
   ]
  },
  {
   "cell_type": "code",
   "execution_count": null,
   "id": "a90b4db1",
   "metadata": {},
   "outputs": [],
   "source": [
    "hemisphere_image_urls = [\n",
    "    {\"title\": res_titles,\n",
    "     \"img_url\": img_urls},]"
   ]
  },
  {
   "cell_type": "code",
   "execution_count": null,
   "id": "76e3d49b",
   "metadata": {},
   "outputs": [],
   "source": [
    "\n"
   ]
  },
  {
   "cell_type": "code",
   "execution_count": null,
   "id": "da113ba8",
   "metadata": {},
   "outputs": [],
   "source": []
  }
 ],
 "metadata": {
  "kernelspec": {
   "display_name": "Python 3",
   "language": "python",
   "name": "python3"
  },
  "language_info": {
   "codemirror_mode": {
    "name": "ipython",
    "version": 3
   },
   "file_extension": ".py",
   "mimetype": "text/x-python",
   "name": "python",
   "nbconvert_exporter": "python",
   "pygments_lexer": "ipython3",
   "version": "3.8.8"
  }
 },
 "nbformat": 4,
 "nbformat_minor": 5
}
